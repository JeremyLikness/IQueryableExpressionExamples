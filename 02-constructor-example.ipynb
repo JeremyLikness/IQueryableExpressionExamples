{
 "cells": [
  {
   "cell_type": "code",
   "execution_count": 1,
   "metadata": {},
   "outputs": [
    {
     "data": {
      "text/html": [
       "\r\n",
       "<div>\r\n",
       "    <div id='dotnet-interactive-this-cell-7340.09a1ee9580874eee800dc35de2ef9f8f' style='display: none'>\r\n",
       "        The below script needs to be able to find the current output cell; this is an easy method to get it.\r\n",
       "    </div>\r\n",
       "    <script type='text/javascript'>\r\n",
       "// ensure `require` is available globally\r\n",
       "if (typeof require !== typeof Function || typeof require.config !== typeof Function) {\r\n",
       "    let require_script = document.createElement('script');\r\n",
       "    require_script.setAttribute('src', 'https://cdnjs.cloudflare.com/ajax/libs/require.js/2.3.6/require.min.js');\r\n",
       "    require_script.setAttribute('type', 'text/javascript');\r\n",
       "    require_script.onload = function () {\r\n",
       "        loadDotnetInteractiveApi();\r\n",
       "    };\r\n",
       "\r\n",
       "    document.getElementsByTagName('head')[0].appendChild(require_script);\r\n",
       "}\r\n",
       "else {\r\n",
       "    loadDotnetInteractiveApi();\r\n",
       "}\r\n",
       "\r\n",
       "async function probeAddresses(probingAddresses) {\r\n",
       "    function timeout(ms, promise) {\r\n",
       "        return new Promise(function (resolve, reject) {\r\n",
       "            setTimeout(function () {\r\n",
       "                reject(new Error('timeout'))\r\n",
       "            }, ms)\r\n",
       "            promise.then(resolve, reject)\r\n",
       "        })\r\n",
       "    }\r\n",
       "\r\n",
       "    if (Array.isArray(probingAddresses)) {\r\n",
       "        for (let i = 0; i < probingAddresses.length; i++) {\r\n",
       "\r\n",
       "            let rootUrl = probingAddresses[i];\r\n",
       "\r\n",
       "            if (!rootUrl.endsWith('/')) {\r\n",
       "                rootUrl = `${rootUrl}/`;\r\n",
       "            }\r\n",
       "\r\n",
       "            try {\r\n",
       "                let response = await timeout(1000, fetch(`${rootUrl}discovery`, {\r\n",
       "                    method: 'POST',\r\n",
       "                    cache: 'no-cache',\r\n",
       "                    mode: 'cors',\r\n",
       "                    timeout: 1000,\r\n",
       "                    headers: {\r\n",
       "                        'Content-Type': 'text/plain'\r\n",
       "                    },\r\n",
       "                    body: probingAddresses[i]\r\n",
       "                }));\r\n",
       "\r\n",
       "                if (response.status == 200) {\r\n",
       "                    return rootUrl;\r\n",
       "                }\r\n",
       "            }\r\n",
       "            catch (e) { }\r\n",
       "        }\r\n",
       "    }\r\n",
       "}\r\n",
       "\r\n",
       "function loadDotnetInteractiveApi() {\r\n",
       "    probeAddresses([\"http://192.168.86.161:1001/\", \"http://100.64.157.174:1001/\", \"http://172.28.128.1:1001/\", \"http://172.24.48.1:1001/\", \"http://172.24.32.1:1001/\", \"http://172.19.128.1:1001/\", \"http://127.0.0.1:1001/\"])\r\n",
       "        .then((root) => {\r\n",
       "            // use probing to find host url and api resources\r\n",
       "            // load interactive helpers and language services\r\n",
       "            let dotnetInteractiveRequire = require.config({\r\n",
       "                context: '7340.09a1ee9580874eee800dc35de2ef9f8f',\r\n",
       "                paths: {\r\n",
       "                    'dotnet-interactive': `${root}resources`\r\n",
       "                }\r\n",
       "            }) || require;\r\n",
       "\r\n",
       "            let dotnetInteractiveExtensionsRequire = require.config({\r\n",
       "                context: '7340.09a1ee9580874eee800dc35de2ef9f8f',\r\n",
       "                paths: {\r\n",
       "                    'dotnet-interactive-extensions': `${root}extensions`\r\n",
       "                }\r\n",
       "            }) || require;\r\n",
       "\r\n",
       "            if (!window.dotnetInteractiveRequire) {\r\n",
       "                window.dotnetInteractiveRequire = dotnetInteractiveRequire;\r\n",
       "            }\r\n",
       "\r\n",
       "            if (!window.dotnetInteractiveExtensionsRequire) {\r\n",
       "                window.dotnetInteractiveExtensionsRequire = dotnetInteractiveExtensionsRequire;\r\n",
       "            }\r\n",
       "\r\n",
       "            window.getExtensionRequire = function(extensionName, extensionCacheBuster) {\r\n",
       "                let paths = {};\r\n",
       "                paths[extensionName] = `${root}extensions/${extensionName}/resources/`;\r\n",
       "                \r\n",
       "                let internalRequire = require.config({\r\n",
       "                    context: extensionCacheBuster,\r\n",
       "                    paths: paths,\r\n",
       "                    urlArgs: `cacheBuster=${extensionCacheBuster}`\r\n",
       "                    }) || require;\r\n",
       "\r\n",
       "                return internalRequire\r\n",
       "            };\r\n",
       "        \r\n",
       "            dotnetInteractiveRequire([\r\n",
       "                    'dotnet-interactive/dotnet-interactive'\r\n",
       "                ],\r\n",
       "                function (dotnet) {\r\n",
       "                    dotnet.init(window);\r\n",
       "                },\r\n",
       "                function (error) {\r\n",
       "                    console.log(error);\r\n",
       "                }\r\n",
       "            );\r\n",
       "        })\r\n",
       "        .catch(error => {console.log(error);});\r\n",
       "    }\r\n",
       "    </script>\r\n",
       "</div>"
      ]
     },
     "metadata": {},
     "output_type": "display_data"
    },
    {
     "data": {
      "text/html": [
       "<table><thead><tr><th>Id</th></tr></thead><tbody><tr><td><div class=\"dni-plaintext\">&lt;null&gt;</div></td></tr></tbody></table>"
      ]
     },
     "metadata": {},
     "output_type": "display_data"
    },
    {
     "data": {
      "text/html": [
       "<table><thead><tr><th>Id</th></tr></thead><tbody><tr><td><div class=\"dni-plaintext\">example2</div></td></tr></tbody></table>"
      ]
     },
     "metadata": {},
     "output_type": "display_data"
    },
    {
     "data": {
      "text/html": [
       "<table><thead><tr><th>Id</th></tr></thead><tbody><tr><td><div class=\"dni-plaintext\">example3</div></td></tr></tbody></table>"
      ]
     },
     "metadata": {},
     "output_type": "display_data"
    }
   ],
   "source": [
    "public class Example\n",
    "{\n",
    "    public Example() { }\n",
    "    public Example(string init)\n",
    "    {\n",
    "        Id = init;\n",
    "    }\n",
    "    public string Id { get; set; }\n",
    "    \n",
    "    public override string ToString() => Id;\n",
    "}\n",
    "\n",
    "var example1 = new Example();\n",
    "var example2 = new Example(\"example2\");\n",
    "var example3 = new Example { Id = \"example3\" };\n",
    "\n",
    "display(example1);\n",
    "display(example2);\n",
    "display(example3);"
   ]
  },
  {
   "cell_type": "code",
   "execution_count": 2,
   "metadata": {},
   "outputs": [
    {
     "data": {
      "text/plain": [
       "() => new Example()"
      ]
     },
     "metadata": {},
     "output_type": "display_data"
    },
    {
     "data": {
      "text/plain": [
       "System.Func`1[Submission#4+Example]"
      ]
     },
     "metadata": {},
     "output_type": "display_data"
    },
    {
     "data": {
      "text/html": [
       "<table><thead><tr><th>Id</th></tr></thead><tbody><tr><td><div class=\"dni-plaintext\">&lt;null&gt;</div></td></tr></tbody></table>"
      ]
     },
     "metadata": {},
     "output_type": "display_data"
    }
   ],
   "source": [
    "using System.Linq.Expressions;\n",
    "\n",
    "Expression<Func<Example>> expr1 = () => new Example();\n",
    "display(expr1.ToString());\n",
    "var ctor1 = expr1.Compile();\n",
    "display(ctor1.ToString());\n",
    "var newExample1 = ctor1();\n",
    "display(newExample1);"
   ]
  },
  {
   "cell_type": "code",
   "execution_count": 3,
   "metadata": {},
   "outputs": [
    {
     "data": {
      "text/plain": [
       "str => new Example(str)"
      ]
     },
     "metadata": {},
     "output_type": "display_data"
    },
    {
     "data": {
      "text/plain": [
       "System.Func`2[System.String,Submission#4+Example]"
      ]
     },
     "metadata": {},
     "output_type": "display_data"
    },
    {
     "data": {
      "text/html": [
       "<table><thead><tr><th>Id</th></tr></thead><tbody><tr><td><div class=\"dni-plaintext\">expr2</div></td></tr></tbody></table>"
      ]
     },
     "metadata": {},
     "output_type": "display_data"
    }
   ],
   "source": [
    "Expression<Func<string,Example>> expr2 = str => new Example(str);\n",
    "display(expr2.ToString());\n",
    "var ctor2 = expr2.Compile();\n",
    "display(ctor2.ToString());\n",
    "var newExample2 = ctor2(\"expr2\");\n",
    "display(newExample2);"
   ]
  },
  {
   "cell_type": "code",
   "execution_count": 5,
   "metadata": {},
   "outputs": [
    {
     "data": {
      "text/plain": [
       "str => new Example() {Id = str}"
      ]
     },
     "metadata": {},
     "output_type": "display_data"
    },
    {
     "data": {
      "text/plain": [
       "System.Func`2[System.String,Submission#4+Example]"
      ]
     },
     "metadata": {},
     "output_type": "display_data"
    },
    {
     "data": {
      "text/html": [
       "<table><thead><tr><th>Id</th></tr></thead><tbody><tr><td><div class=\"dni-plaintext\">expr3</div></td></tr></tbody></table>"
      ]
     },
     "metadata": {},
     "output_type": "display_data"
    }
   ],
   "source": [
    "Expression<Func<string,Example>> expr3 = str => new Example { Id = str };\n",
    "display(expr3.ToString());\n",
    "var ctor3 = expr3.Compile();\n",
    "display(ctor3.ToString());\n",
    "var newExample3 = ctor3(\"expr3\");\n",
    "display(newExample3);"
   ]
  },
  {
   "cell_type": "code",
   "execution_count": 6,
   "metadata": {},
   "outputs": [
    {
     "data": {
      "text/plain": [
       "Installed package ExpressionPowerTools.Core version 0.9.2-alpha"
      ]
     },
     "metadata": {},
     "output_type": "display_data"
    },
    {
     "data": {
      "text/html": [
       "<table><thead><tr><th><i>index</i></th><th>NodeType</th><th>expr</th></tr></thead><tbody><tr><td>0</td><td><span>Lambda</span></td><td><div class=\"dni-plaintext\">() =&gt; new Example()</div></td></tr><tr><td>1</td><td><span>New</span></td><td><div class=\"dni-plaintext\">new Example()</div></td></tr></tbody></table>"
      ]
     },
     "metadata": {},
     "output_type": "display_data"
    }
   ],
   "source": [
    "#r \"nuget:ExpressionPowerTools.Core,0.9.2-alpha\"\n",
    "\n",
    "using ExpressionPowerTools.Core.Extensions;\n",
    "\n",
    "var expressionTree1 = expr1.AsEnumerable().Select(e => new { e.NodeType, expr = e.ToString() }).ToList();\n",
    "display(expressionTree1);"
   ]
  },
  {
   "cell_type": "code",
   "execution_count": 7,
   "metadata": {},
   "outputs": [
    {
     "data": {
      "text/html": [
       "<table><thead><tr><th><i>index</i></th><th>NodeType</th><th>expr</th></tr></thead><tbody><tr><td>0</td><td><span>Lambda</span></td><td><div class=\"dni-plaintext\">str =&gt; new Example(str)</div></td></tr><tr><td>1</td><td><span>Parameter</span></td><td><div class=\"dni-plaintext\">str</div></td></tr><tr><td>2</td><td><span>New</span></td><td><div class=\"dni-plaintext\">new Example(str)</div></td></tr><tr><td>3</td><td><span>Parameter</span></td><td><div class=\"dni-plaintext\">str</div></td></tr></tbody></table>"
      ]
     },
     "metadata": {},
     "output_type": "display_data"
    }
   ],
   "source": [
    "var expressionTree2 = expr2.AsEnumerable().Select(e => new { e.NodeType, expr = e.ToString() }).ToList();\n",
    "display(expressionTree2);"
   ]
  },
  {
   "cell_type": "code",
   "execution_count": 8,
   "metadata": {},
   "outputs": [
    {
     "data": {
      "text/html": [
       "<table><thead><tr><th><i>index</i></th><th>NodeType</th><th>expr</th></tr></thead><tbody><tr><td>0</td><td><span>Lambda</span></td><td><div class=\"dni-plaintext\">str =&gt; new Example() {Id = str}</div></td></tr><tr><td>1</td><td><span>Parameter</span></td><td><div class=\"dni-plaintext\">str</div></td></tr><tr><td>2</td><td><span>MemberInit</span></td><td><div class=\"dni-plaintext\">new Example() {Id = str}</div></td></tr><tr><td>3</td><td><span>New</span></td><td><div class=\"dni-plaintext\">new Example()</div></td></tr></tbody></table>"
      ]
     },
     "metadata": {},
     "output_type": "display_data"
    }
   ],
   "source": [
    "var expressionTree3 = expr3.AsEnumerable().Select(e => new { e.NodeType, expr = e.ToString() }).ToList();\n",
    "display(expressionTree3);"
   ]
  },
  {
   "cell_type": "code",
   "execution_count": 9,
   "metadata": {},
   "outputs": [
    {
     "data": {
      "text/plain": [
       "str => (CreateInstance(Submission#4+Example, new [] {str}) As Example)"
      ]
     },
     "metadata": {},
     "output_type": "display_data"
    },
    {
     "data": {
      "text/plain": [
       "System.Func`2[System.String,Submission#4+Example]"
      ]
     },
     "metadata": {},
     "output_type": "display_data"
    },
    {
     "data": {
      "text/html": [
       "<table><thead><tr><th>Id</th></tr></thead><tbody><tr><td><div class=\"dni-plaintext\">expr4</div></td></tr></tbody></table>"
      ]
     },
     "metadata": {},
     "output_type": "display_data"
    },
    {
     "data": {
      "text/html": [
       "<table><thead><tr><th><i>index</i></th><th>NodeType</th><th>expr</th></tr></thead><tbody><tr><td>0</td><td><span>Lambda</span></td><td><div class=\"dni-plaintext\">str =&gt; (CreateInstance(Submission#4+Example, new [] {str}) As Example)</div></td></tr><tr><td>1</td><td><span>Parameter</span></td><td><div class=\"dni-plaintext\">str</div></td></tr><tr><td>2</td><td><span>TypeAs</span></td><td><div class=\"dni-plaintext\">(CreateInstance(Submission#4+Example, new [] {str}) As Example)</div></td></tr><tr><td>3</td><td><span>Call</span></td><td><div class=\"dni-plaintext\">CreateInstance(Submission#4+Example, new [] {str})</div></td></tr><tr><td>4</td><td><span>Constant</span></td><td><div class=\"dni-plaintext\">Submission#4+Example</div></td></tr><tr><td>5</td><td><span>NewArrayInit</span></td><td><div class=\"dni-plaintext\">new [] {str}</div></td></tr><tr><td>6</td><td><span>Parameter</span></td><td><div class=\"dni-plaintext\">str</div></td></tr></tbody></table>"
      ]
     },
     "metadata": {},
     "output_type": "display_data"
    }
   ],
   "source": [
    "Expression<Func<string, Example>> expr4 = \n",
    "str => Activator.CreateInstance(typeof(Example), str) as Example;\n",
    "display(expr4.ToString());\n",
    "var ctor4 = expr4.Compile();\n",
    "display(ctor4.ToString());\n",
    "var newExample4 = ctor4(\"expr4\");\n",
    "display(newExample4);\n",
    "var expressionTree4 = expr4.AsEnumerable().Select(e => new { e.NodeType, expr = e.ToString() }).ToList();\n",
    "display(expressionTree4);"
   ]
  }
 ],
 "metadata": {
  "kernelspec": {
   "display_name": ".NET (C#)",
   "language": "C#",
   "name": ".net-csharp"
  },
  "language_info": {
   "file_extension": ".cs",
   "mimetype": "text/x-csharp",
   "name": "C#",
   "pygments_lexer": "csharp",
   "version": "8.0"
  }
 },
 "nbformat": 4,
 "nbformat_minor": 4
}

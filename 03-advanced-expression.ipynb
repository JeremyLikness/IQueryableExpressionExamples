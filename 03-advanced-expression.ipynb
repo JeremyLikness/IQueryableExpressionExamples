{
 "cells": [
  {
   "cell_type": "code",
   "execution_count": 3,
   "metadata": {},
   "outputs": [
    {
     "ename": "Unhandled exception",
     "evalue": "System.ArgumentException: Expression of type 'System.Void' cannot be used for return type 'System.Int32'\r\n   at System.Linq.Expressions.Expression.ValidateLambdaArgs(Type delegateType, Expression& body, ReadOnlyCollection`1 parameters, String paramName)\r\n   at System.Linq.Expressions.Expression.Lambda[TDelegate](Expression body, String name, Boolean tailCall, IEnumerable`1 parameters)\r\n   at System.Linq.Expressions.Expression.Lambda[TDelegate](Expression body, Boolean tailCall, IEnumerable`1 parameters)\r\n   at System.Linq.Expressions.Expression.Lambda[TDelegate](Expression body, ParameterExpression[] parameters)\r\n   at Submission#6.<<Initialize>>d__0.MoveNext()\r\n--- End of stack trace from previous location where exception was thrown ---\r\n   at Microsoft.CodeAnalysis.Scripting.ScriptExecutionState.RunSubmissionsAsync[TResult](ImmutableArray`1 precedingExecutors, Func`2 currentExecutor, StrongBox`1 exceptionHolderOpt, Func`2 catchExceptionOpt, CancellationToken cancellationToken)",
     "output_type": "error",
     "traceback": [
      "System.ArgumentException: Expression of type 'System.Void' cannot be used for return type 'System.Int32'\r\n   at System.Linq.Expressions.Expression.ValidateLambdaArgs(Type delegateType, Expression& body, ReadOnlyCollection`1 parameters, String paramName)\r\n   at System.Linq.Expressions.Expression.Lambda[TDelegate](Expression body, String name, Boolean tailCall, IEnumerable`1 parameters)\r\n   at System.Linq.Expressions.Expression.Lambda[TDelegate](Expression body, Boolean tailCall, IEnumerable`1 parameters)\r\n   at System.Linq.Expressions.Expression.Lambda[TDelegate](Expression body, ParameterExpression[] parameters)\r\n   at Submission#6.<<Initialize>>d__0.MoveNext()\r\n--- End of stack trace from previous location where exception was thrown ---\r\n   at Microsoft.CodeAnalysis.Scripting.ScriptExecutionState.RunSubmissionsAsync[TResult](ImmutableArray`1 precedingExecutors, Func`2 currentExecutor, StrongBox`1 exceptionHolderOpt, Func`2 catchExceptionOpt, CancellationToken cancellationToken)",
      "   at System.Linq.Expressions.Expression.ValidateLambdaArgs(Type delegateType, Expression& body, ReadOnlyCollection`1 parameters, String paramName)",
      "   at System.Linq.Expressions.Expression.Lambda[TDelegate](Expression body, String name, Boolean tailCall, IEnumerable`1 parameters)",
      "   at System.Linq.Expressions.Expression.Lambda[TDelegate](Expression body, Boolean tailCall, IEnumerable`1 parameters)",
      "   at System.Linq.Expressions.Expression.Lambda[TDelegate](Expression body, ParameterExpression[] parameters)",
      "   at Submission#6.<<Initialize>>d__0.MoveNext()",
      "--- End of stack trace from previous location where exception was thrown ---",
      "   at Microsoft.CodeAnalysis.Scripting.ScriptExecutionState.RunSubmissionsAsync[TResult](ImmutableArray`1 precedingExecutors, Func`2 currentExecutor, StrongBox`1 exceptionHolderOpt, Func`2 catchExceptionOpt, CancellationToken cancellationToken)"
     ]
    }
   ],
   "source": [
    "using System.Linq.Expressions;\n",
    "\n",
    "var x = Expression.Parameter(typeof(int), \"x\");\n",
    "var y = Expression.Parameter(typeof(int), \"y\");\n",
    "\n",
    "var add = Expression.Add(x, y);\n",
    "var subtract = Expression.Subtract(x, y);\n",
    "\n",
    "var choose = Expression.IfThenElse(\n",
    "    Expression.GreaterThan(x, y),\n",
    "    subtract,\n",
    "    add);\n",
    "\n",
    "var lambda = Expression.Lambda<Func<int,int,int>>(\n",
    "    choose,\n",
    "    new[] { x, y });\n",
    "\n",
    "display(lambda.ToString());"
   ]
  },
  {
   "cell_type": "code",
   "execution_count": 5,
   "metadata": {},
   "outputs": [
    {
     "data": {
      "text/plain": [
       "(x, y) => { ... }"
      ]
     },
     "metadata": {},
     "output_type": "display_data"
    },
    {
     "data": {
      "text/plain": [
       "System.Func`3[System.Int32,System.Int32,System.Int32]"
      ]
     },
     "metadata": {},
     "output_type": "display_data"
    },
    {
     "data": {
      "text/html": [
       "<div class=\"dni-plaintext\">38</div>"
      ]
     },
     "metadata": {},
     "output_type": "display_data"
    },
    {
     "data": {
      "text/html": [
       "<div class=\"dni-plaintext\">42</div>"
      ]
     },
     "metadata": {},
     "output_type": "display_data"
    }
   ],
   "source": [
    "using System.Linq.Expressions;\n",
    "\n",
    "var x = Expression.Parameter(typeof(int), \"x\");\n",
    "var y = Expression.Parameter(typeof(int), \"y\");\n",
    "\n",
    "var add = Expression.Add(x, y);\n",
    "var subtract = Expression.Subtract(x, y);\n",
    "var test = Expression.GreaterThan(x, y);\n",
    "\n",
    "var returnTarget = Expression.Label(typeof(int));\n",
    "\n",
    "var whenTrue = Expression.Return(\n",
    "    returnTarget,\n",
    "    subtract);\n",
    "\n",
    "var whenFalse = Expression.Return(\n",
    "    returnTarget,\n",
    "    add);\n",
    "\n",
    "var expr = Expression.Block(\n",
    "    Expression.IfThenElse(test, whenTrue, whenFalse),\n",
    "    Expression.Label(returnTarget, Expression.Constant(0)));\n",
    "\n",
    "var lambda = Expression.Lambda<Func<int, int, int>>(\n",
    "    expr,\n",
    "    new[] { x, y });\n",
    "    \n",
    "display(lambda.ToString());\n",
    "var fn = lambda.Compile();\n",
    "display(fn.ToString());\n",
    "display(fn(40,2));\n",
    "display(fn(2,40));"
   ]
  }
 ],
 "metadata": {
  "kernelspec": {
   "display_name": ".NET (C#)",
   "language": "C#",
   "name": ".net-csharp"
  },
  "language_info": {
   "file_extension": ".cs",
   "mimetype": "text/x-csharp",
   "name": "C#",
   "pygments_lexer": "csharp",
   "version": "8.0"
  }
 },
 "nbformat": 4,
 "nbformat_minor": 4
}

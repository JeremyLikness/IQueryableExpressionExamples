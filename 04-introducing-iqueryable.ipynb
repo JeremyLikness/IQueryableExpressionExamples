{
 "cells": [
  {
   "cell_type": "code",
   "execution_count": 49,
   "metadata": {
    "slideshow": {
     "slide_type": "slide"
    }
   },
   "outputs": [
    {
     "data": {
      "text/plain": [
       "System.Linq.Enumerable+WhereListIterator`1[Submission#52+Square]: System.Linq.Enumerable+WhereListIterator`1[Submission#52+Square]"
      ]
     },
     "metadata": {},
     "output_type": "display_data"
    }
   ],
   "source": [
    "using System.Linq.Expressions;\n",
    "\n",
    "Action<object> showDetails = obj => display($\"{obj.GetType()}: {obj.ToString()}\");\n",
    "\n",
    "public class Square\n",
    "{\n",
    "    public int LengthOfSide { get; set; }\n",
    "    \n",
    "    public override string ToString() => $\"Square with sides {LengthOfSide}\";\n",
    "}\n",
    "\n",
    "var squares = new List<Square>();\n",
    "\n",
    "for (var x = 0; x < 100; x++)\n",
    "{\n",
    "    squares.Add(new Square { LengthOfSide = x + 1 });\n",
    "}\n",
    "\n",
    "var query = squares.Where(s => s.LengthOfSide < 10);\n",
    "showDetails(query);"
   ]
  },
  {
   "cell_type": "code",
   "execution_count": 50,
   "metadata": {
    "slideshow": {
     "slide_type": "slide"
    }
   },
   "outputs": [
    {
     "data": {
      "text/plain": [
       "System.Linq.EnumerableQuery`1[Submission#52+Square]: System.Collections.Generic.List`1[Submission#52+Square].Where(s => (s.LengthOfSide < 10))"
      ]
     },
     "metadata": {},
     "output_type": "display_data"
    }
   ],
   "source": [
    "var query2 = squares.AsQueryable().Where(s => s.LengthOfSide < 10);\n",
    "showDetails(query2);"
   ]
  },
  {
   "cell_type": "code",
   "execution_count": 51,
   "metadata": {
    "slideshow": {
     "slide_type": "slide"
    }
   },
   "outputs": [
    {
     "data": {
      "text/plain": [
       "Submission#52+Square: Square with sides 1"
      ]
     },
     "metadata": {},
     "output_type": "display_data"
    }
   ],
   "source": [
    "var query3 = squares.AsQueryable().First(s => s.LengthOfSide < 10);\n",
    "showDetails(query3);"
   ]
  },
  {
   "cell_type": "code",
   "execution_count": 52,
   "metadata": {
    "slideshow": {
     "slide_type": "slide"
    }
   },
   "outputs": [
    {
     "data": {
      "text/plain": [
       "System.Linq.Expressions.MethodCallExpression2: System.Collections.Generic.List`1[Submission#52+Square].Where(s => (s.LengthOfSide < 10))"
      ]
     },
     "metadata": {},
     "output_type": "display_data"
    },
    {
     "data": {
      "text/plain": [
       "System.Linq.Expressions.ConstantExpression: System.Collections.Generic.List`1[Submission#52+Square]"
      ]
     },
     "metadata": {},
     "output_type": "display_data"
    },
    {
     "data": {
      "text/plain": [
       "System.Linq.Expressions.UnaryExpression: s => (s.LengthOfSide < 10)"
      ]
     },
     "metadata": {},
     "output_type": "display_data"
    },
    {
     "data": {
      "text/plain": [
       "System.Linq.Expressions.Expression1`1[System.Func`2[Submission#52+Square,System.Boolean]]: s => (s.LengthOfSide < 10)"
      ]
     },
     "metadata": {},
     "output_type": "display_data"
    },
    {
     "data": {
      "text/plain": [
       "System.Linq.Expressions.TypedParameterExpression: s"
      ]
     },
     "metadata": {},
     "output_type": "display_data"
    },
    {
     "data": {
      "text/plain": [
       "System.Linq.Expressions.LogicalBinaryExpression: (s.LengthOfSide < 10)"
      ]
     },
     "metadata": {},
     "output_type": "display_data"
    },
    {
     "data": {
      "text/plain": [
       "System.Linq.Expressions.PropertyExpression: s.LengthOfSide"
      ]
     },
     "metadata": {},
     "output_type": "display_data"
    },
    {
     "data": {
      "text/plain": [
       "System.Linq.Expressions.TypedParameterExpression: s"
      ]
     },
     "metadata": {},
     "output_type": "display_data"
    },
    {
     "data": {
      "text/plain": [
       "System.Linq.Expressions.ConstantExpression: 10"
      ]
     },
     "metadata": {},
     "output_type": "display_data"
    }
   ],
   "source": [
    "#r \"nuget:ExpressionPowerTools.Core,0.9.2-alpha\"\n",
    "\n",
    "using ExpressionPowerTools.Core.Extensions;\n",
    "\n",
    "foreach(var node in query2.Expression.AsEnumerable())\n",
    "{\n",
    "    showDetails(node);\n",
    "}"
   ]
  },
  {
   "cell_type": "code",
   "execution_count": 53,
   "metadata": {},
   "outputs": [
    {
     "data": {
      "text/html": [
       "<table><thead><tr><th><i>index</i></th><th>LengthOfSide</th></tr></thead><tbody><tr><td>0</td><td><div class=\"dni-plaintext\">1</div></td></tr><tr><td>1</td><td><div class=\"dni-plaintext\">2</div></td></tr><tr><td>2</td><td><div class=\"dni-plaintext\">3</div></td></tr><tr><td>3</td><td><div class=\"dni-plaintext\">4</div></td></tr><tr><td>4</td><td><div class=\"dni-plaintext\">5</div></td></tr><tr><td>5</td><td><div class=\"dni-plaintext\">6</div></td></tr><tr><td>6</td><td><div class=\"dni-plaintext\">7</div></td></tr><tr><td>7</td><td><div class=\"dni-plaintext\">8</div></td></tr><tr><td>8</td><td><div class=\"dni-plaintext\">9</div></td></tr></tbody></table>"
      ]
     },
     "metadata": {},
     "output_type": "display_data"
    }
   ],
   "source": [
    "display(query2.ToList());"
   ]
  },
  {
   "cell_type": "markdown",
   "metadata": {
    "slideshow": {
     "slide_type": "notes"
    }
   },
   "source": [
    "## See Deck for Visualization"
   ]
  },
  {
   "cell_type": "code",
   "execution_count": 55,
   "metadata": {},
   "outputs": [
    {
     "data": {
      "text/plain": [
       "System.Linq.Expressions.ConstantExpression: System.Collections.Generic.List`1[Submission#52+Square]"
      ]
     },
     "metadata": {},
     "output_type": "display_data"
    }
   ],
   "source": [
    "// let's build our own query from scratch:\n",
    "// squares.Where(s => ((s.LengthOfSide == 42) OrElse \n",
    "//    ((s.LengthOfSide >= 5) AndAlso (s.LengthOfSide <= 15))))\n",
    "//    .OrderBy(s => s.LengthOfSide)\n",
    "\n",
    "var meaning = Expression.Constant(42);\n",
    "var min = Expression.Constant(5);\n",
    "var max = Expression.Constant(15);\n",
    "\n",
    "//s => ...\n",
    "var square = Expression.Parameter(typeof(Square), \"s\");\n",
    "\n",
    "// s => s.LengthOfSide\n",
    "var lengthOfSide = Expression.Property(\n",
    "    square, typeof(Square).GetProperty(nameof(Square.LengthOfSide)));\n",
    "\n",
    "// s => s.LengthOfSide == 42\n",
    "var meaningPredicate = Expression.Equal(lengthOfSide, meaning);\n",
    "\n",
    "// s => s.LengthOfSide >= 5\n",
    "var lowRange = Expression.GreaterThanOrEqual(lengthOfSide, min);\n",
    "\n",
    "// s => s.LengthOfSide <= 15\n",
    "var highRange = Expression.LessThanOrEqual(lengthOfSide, max);\n",
    "\n",
    "// s => (s.LengthOfSide >= 5 && s => s.LengthOfSide <= 15)\n",
    "var rangePredicate = Expression.AndAlso(lowRange, highRange);\n",
    "\n",
    "// s => (s.LengthOfSide == 42) || (s.LengthOfSide >= 5 && s => s.LengthOfSide <= 15)\n",
    "var predicate = Expression.OrElse(meaningPredicate, rangePredicate);\n",
    "\n",
    "var queryableData = squares.AsQueryable();\n",
    "\n",
    "showDetails(queryableData.Expression);"
   ]
  },
  {
   "cell_type": "code",
   "execution_count": 56,
   "metadata": {},
   "outputs": [
    {
     "data": {
      "text/plain": [
       "System.Linq.EnumerableQuery`1[Submission#52+Square]: System.Collections.Generic.List`1[Submission#52+Square].Where(s => ((s.LengthOfSide == 42) OrElse ((s.LengthOfSide >= 5) AndAlso (s.LengthOfSide <= 15)))).OrderBy(s => s.LengthOfSide)"
      ]
     },
     "metadata": {},
     "output_type": "display_data"
    }
   ],
   "source": [
    "// s => s.Where(...)\n",
    "var where = Expression.Call(  \n",
    "    typeof(Queryable),  \n",
    "    nameof(Queryable.Where),  \n",
    "    new Type[] { queryableData.ElementType },  \n",
    "    queryableData.Expression,  \n",
    "    Expression.Lambda<Func<Square, bool>>(predicate, new ParameterExpression[] { square }));  \n",
    "\n",
    "// s => s.Where(...).OrderBy(s => s.LengthOfSide)\n",
    "var orderBy = Expression.Call(  \n",
    "    typeof(Queryable),  \n",
    "    nameof(Queryable.OrderBy),  \n",
    "    new Type[] { queryableData.ElementType, typeof(int) },  \n",
    "    where,  \n",
    "    Expression.Lambda<Func<Square, int>>(lengthOfSide, new ParameterExpression[] { square }));  \n",
    "\n",
    "// make the query\n",
    "var dynamicQuery = queryableData.Provider.CreateQuery<Square>(orderBy);\n",
    "showDetails(dynamicQuery);"
   ]
  },
  {
   "cell_type": "code",
   "execution_count": 57,
   "metadata": {},
   "outputs": [
    {
     "data": {
      "text/html": [
       "<table><thead><tr><th><i>index</i></th><th>LengthOfSide</th></tr></thead><tbody><tr><td>0</td><td><div class=\"dni-plaintext\">5</div></td></tr><tr><td>1</td><td><div class=\"dni-plaintext\">6</div></td></tr><tr><td>2</td><td><div class=\"dni-plaintext\">7</div></td></tr><tr><td>3</td><td><div class=\"dni-plaintext\">8</div></td></tr><tr><td>4</td><td><div class=\"dni-plaintext\">9</div></td></tr><tr><td>5</td><td><div class=\"dni-plaintext\">10</div></td></tr><tr><td>6</td><td><div class=\"dni-plaintext\">11</div></td></tr><tr><td>7</td><td><div class=\"dni-plaintext\">12</div></td></tr><tr><td>8</td><td><div class=\"dni-plaintext\">13</div></td></tr><tr><td>9</td><td><div class=\"dni-plaintext\">14</div></td></tr><tr><td>10</td><td><div class=\"dni-plaintext\">15</div></td></tr><tr><td>11</td><td><div class=\"dni-plaintext\">42</div></td></tr></tbody></table>"
      ]
     },
     "metadata": {},
     "output_type": "display_data"
    }
   ],
   "source": [
    "display(dynamicQuery.ToList());"
   ]
  },
  {
   "cell_type": "code",
   "execution_count": 58,
   "metadata": {},
   "outputs": [
    {
     "data": {
      "text/plain": [
       "System.Linq.Expressions.MethodCallExpression2: System.Collections.Generic.List`1[Submission#52+Square].Where(s => ((s.LengthOfSide == 42) OrElse ((s.LengthOfSide >= 5) AndAlso (s.LengthOfSide <= 15)))).OrderBy(s => s.LengthOfSide)"
      ]
     },
     "metadata": {},
     "output_type": "display_data"
    },
    {
     "data": {
      "text/plain": [
       "System.Linq.Expressions.MethodCallExpression2: System.Collections.Generic.List`1[Submission#52+Square].Where(s => ((s.LengthOfSide == 42) OrElse ((s.LengthOfSide >= 5) AndAlso (s.LengthOfSide <= 15))))"
      ]
     },
     "metadata": {},
     "output_type": "display_data"
    },
    {
     "data": {
      "text/plain": [
       "System.Linq.Expressions.ConstantExpression: System.Collections.Generic.List`1[Submission#52+Square]"
      ]
     },
     "metadata": {},
     "output_type": "display_data"
    },
    {
     "data": {
      "text/plain": [
       "System.Linq.Expressions.UnaryExpression: s => ((s.LengthOfSide == 42) OrElse ((s.LengthOfSide >= 5) AndAlso (s.LengthOfSide <= 15)))"
      ]
     },
     "metadata": {},
     "output_type": "display_data"
    },
    {
     "data": {
      "text/plain": [
       "System.Linq.Expressions.Expression1`1[System.Func`2[Submission#52+Square,System.Boolean]]: s => ((s.LengthOfSide == 42) OrElse ((s.LengthOfSide >= 5) AndAlso (s.LengthOfSide <= 15)))"
      ]
     },
     "metadata": {},
     "output_type": "display_data"
    },
    {
     "data": {
      "text/plain": [
       "System.Linq.Expressions.TypedParameterExpression: s"
      ]
     },
     "metadata": {},
     "output_type": "display_data"
    },
    {
     "data": {
      "text/plain": [
       "System.Linq.Expressions.LogicalBinaryExpression: ((s.LengthOfSide == 42) OrElse ((s.LengthOfSide >= 5) AndAlso (s.LengthOfSide <= 15)))"
      ]
     },
     "metadata": {},
     "output_type": "display_data"
    },
    {
     "data": {
      "text/plain": [
       "System.Linq.Expressions.LogicalBinaryExpression: (s.LengthOfSide == 42)"
      ]
     },
     "metadata": {},
     "output_type": "display_data"
    },
    {
     "data": {
      "text/plain": [
       "System.Linq.Expressions.PropertyExpression: s.LengthOfSide"
      ]
     },
     "metadata": {},
     "output_type": "display_data"
    },
    {
     "data": {
      "text/plain": [
       "System.Linq.Expressions.TypedParameterExpression: s"
      ]
     },
     "metadata": {},
     "output_type": "display_data"
    },
    {
     "data": {
      "text/plain": [
       "System.Linq.Expressions.ConstantExpression: 42"
      ]
     },
     "metadata": {},
     "output_type": "display_data"
    },
    {
     "data": {
      "text/plain": [
       "System.Linq.Expressions.LogicalBinaryExpression: ((s.LengthOfSide >= 5) AndAlso (s.LengthOfSide <= 15))"
      ]
     },
     "metadata": {},
     "output_type": "display_data"
    },
    {
     "data": {
      "text/plain": [
       "System.Linq.Expressions.LogicalBinaryExpression: (s.LengthOfSide >= 5)"
      ]
     },
     "metadata": {},
     "output_type": "display_data"
    },
    {
     "data": {
      "text/plain": [
       "System.Linq.Expressions.PropertyExpression: s.LengthOfSide"
      ]
     },
     "metadata": {},
     "output_type": "display_data"
    },
    {
     "data": {
      "text/plain": [
       "System.Linq.Expressions.TypedParameterExpression: s"
      ]
     },
     "metadata": {},
     "output_type": "display_data"
    },
    {
     "data": {
      "text/plain": [
       "System.Linq.Expressions.ConstantExpression: 5"
      ]
     },
     "metadata": {},
     "output_type": "display_data"
    },
    {
     "data": {
      "text/plain": [
       "System.Linq.Expressions.LogicalBinaryExpression: (s.LengthOfSide <= 15)"
      ]
     },
     "metadata": {},
     "output_type": "display_data"
    },
    {
     "data": {
      "text/plain": [
       "System.Linq.Expressions.PropertyExpression: s.LengthOfSide"
      ]
     },
     "metadata": {},
     "output_type": "display_data"
    },
    {
     "data": {
      "text/plain": [
       "System.Linq.Expressions.TypedParameterExpression: s"
      ]
     },
     "metadata": {},
     "output_type": "display_data"
    },
    {
     "data": {
      "text/plain": [
       "System.Linq.Expressions.ConstantExpression: 15"
      ]
     },
     "metadata": {},
     "output_type": "display_data"
    },
    {
     "data": {
      "text/plain": [
       "System.Linq.Expressions.UnaryExpression: s => s.LengthOfSide"
      ]
     },
     "metadata": {},
     "output_type": "display_data"
    },
    {
     "data": {
      "text/plain": [
       "System.Linq.Expressions.Expression1`1[System.Func`2[Submission#52+Square,System.Int32]]: s => s.LengthOfSide"
      ]
     },
     "metadata": {},
     "output_type": "display_data"
    },
    {
     "data": {
      "text/plain": [
       "System.Linq.Expressions.TypedParameterExpression: s"
      ]
     },
     "metadata": {},
     "output_type": "display_data"
    },
    {
     "data": {
      "text/plain": [
       "System.Linq.Expressions.PropertyExpression: s.LengthOfSide"
      ]
     },
     "metadata": {},
     "output_type": "display_data"
    },
    {
     "data": {
      "text/plain": [
       "System.Linq.Expressions.TypedParameterExpression: s"
      ]
     },
     "metadata": {},
     "output_type": "display_data"
    }
   ],
   "source": [
    "foreach(var node in orderBy.AsEnumerable())\n",
    "{\n",
    "    showDetails(node);\n",
    "}"
   ]
  }
 ],
 "metadata": {
  "kernelspec": {
   "display_name": ".NET (C#)",
   "language": "C#",
   "name": ".net-csharp"
  },
  "language_info": {
   "file_extension": ".cs",
   "mimetype": "text/x-csharp",
   "name": "C#",
   "pygments_lexer": "csharp",
   "version": "8.0"
  }
 },
 "nbformat": 4,
 "nbformat_minor": 4
}

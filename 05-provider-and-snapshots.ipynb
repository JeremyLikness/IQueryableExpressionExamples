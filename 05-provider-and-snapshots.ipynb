{
 "cells": [
  {
   "cell_type": "code",
   "execution_count": 6,
   "metadata": {},
   "outputs": [],
   "source": [
    "public class Thing\n",
    "{\n",
    "    public string Id { get; set; } = Guid.NewGuid().ToString();\n",
    "    public int Value { get; set; }\n",
    "    public bool IsActive { get; set; }\n",
    "    public DateTime Created { get; set; }\n",
    "}\n",
    "\n",
    "public IEnumerable<Thing> GetThings(int count)\n",
    "{\n",
    "    var random = new Random();\n",
    "    while (count-- > 0)\n",
    "    {\n",
    "        yield return new Thing \n",
    "        {\n",
    "            Value = random.Next(),\n",
    "            IsActive = random.NextDouble() > 0.3,\n",
    "            Created = DateTime.Now.AddMinutes(-1 * 60 * 24 * 7 * 4 * random.NextDouble())\n",
    "        };\n",
    "    }\n",
    "}"
   ]
  },
  {
   "cell_type": "code",
   "execution_count": 7,
   "metadata": {},
   "outputs": [],
   "source": [
    "var query = GetThings(100).AsQueryable().Where(t => t.IsActive).Skip(5).Take(10);\n"
   ]
  },
  {
   "cell_type": "code",
   "execution_count": 10,
   "metadata": {},
   "outputs": [
    {
     "data": {
      "text/plain": [
       "Submission#5+<GetThings>d__2.Where(t => t.IsActive).Skip(5).Take(10)"
      ]
     },
     "metadata": {},
     "output_type": "display_data"
    },
    {
     "data": {
      "text/html": [
       "<table><thead><tr><th><i>index</i></th><th>Id</th><th>Value</th><th>IsActive</th><th>Created</th></tr></thead><tbody><tr><td>0</td><td><div class=\"dni-plaintext\">e02fc88c-dd6f-4722-a84c-86a3119d3c15</div></td><td><div class=\"dni-plaintext\">898315609</div></td><td><div class=\"dni-plaintext\">True</div></td><td><span>2020-09-02 06:38:37Z</span></td></tr><tr><td>1</td><td><div class=\"dni-plaintext\">7564566c-3e7d-4fa9-9450-d060a38ad0d3</div></td><td><div class=\"dni-plaintext\">1438930639</div></td><td><div class=\"dni-plaintext\">True</div></td><td><span>2020-09-28 03:55:08Z</span></td></tr><tr><td>2</td><td><div class=\"dni-plaintext\">73a2f74f-f05f-4c76-ad2e-b9e089251a95</div></td><td><div class=\"dni-plaintext\">1858685376</div></td><td><div class=\"dni-plaintext\">True</div></td><td><span>2020-09-01 03:57:04Z</span></td></tr><tr><td>3</td><td><div class=\"dni-plaintext\">6f992c4d-c93f-4ef5-8eb8-6e9cffabc775</div></td><td><div class=\"dni-plaintext\">355828809</div></td><td><div class=\"dni-plaintext\">True</div></td><td><span>2020-09-24 06:04:32Z</span></td></tr><tr><td>4</td><td><div class=\"dni-plaintext\">1124c8d2-0976-46d6-ae5c-d2191bcd9f13</div></td><td><div class=\"dni-plaintext\">152363188</div></td><td><div class=\"dni-plaintext\">True</div></td><td><span>2020-09-05 16:51:50Z</span></td></tr><tr><td>5</td><td><div class=\"dni-plaintext\">53b4b5ab-d26d-47c0-88d5-e7256b3884a5</div></td><td><div class=\"dni-plaintext\">157631544</div></td><td><div class=\"dni-plaintext\">True</div></td><td><span>2020-09-25 03:56:35Z</span></td></tr><tr><td>6</td><td><div class=\"dni-plaintext\">6a967f89-f1c9-4794-8190-f158d40f84e0</div></td><td><div class=\"dni-plaintext\">1359932268</div></td><td><div class=\"dni-plaintext\">True</div></td><td><span>2020-09-08 16:30:12Z</span></td></tr><tr><td>7</td><td><div class=\"dni-plaintext\">6dfed60a-63ee-4e6c-ba22-e41868599fe6</div></td><td><div class=\"dni-plaintext\">1210857357</div></td><td><div class=\"dni-plaintext\">True</div></td><td><span>2020-09-15 20:29:06Z</span></td></tr><tr><td>8</td><td><div class=\"dni-plaintext\">a537b631-345c-41f6-8599-62b39532c6e0</div></td><td><div class=\"dni-plaintext\">1415144407</div></td><td><div class=\"dni-plaintext\">True</div></td><td><span>2020-09-22 18:00:12Z</span></td></tr><tr><td>9</td><td><div class=\"dni-plaintext\">6733231d-8a97-46ba-9049-5361f26989f9</div></td><td><div class=\"dni-plaintext\">1725544761</div></td><td><div class=\"dni-plaintext\">True</div></td><td><span>2020-09-06 08:59:57Z</span></td></tr></tbody></table>"
      ]
     },
     "metadata": {},
     "output_type": "display_data"
    }
   ],
   "source": [
    "#r \"nuget:ExpressionPowerTools.Core,0.9.2-alpha\"\n",
    "\n",
    "using ExpressionPowerTools.Core.Extensions;\n",
    "using System.Linq.Expressions;\n",
    "\n",
    "Action<Expression> snapshot = expr => display(expr.ToString());\n",
    "\n",
    "var querySnapshot = query.CreateSnapshotQueryable(snapshot);\n",
    "\n",
    "display(querySnapshot.ToList());"
   ]
  }
 ],
 "metadata": {
  "kernelspec": {
   "display_name": ".NET (C#)",
   "language": "C#",
   "name": ".net-csharp"
  },
  "language_info": {
   "file_extension": ".cs",
   "mimetype": "text/x-csharp",
   "name": "C#",
   "pygments_lexer": "csharp",
   "version": "8.0"
  }
 },
 "nbformat": 4,
 "nbformat_minor": 4
}
